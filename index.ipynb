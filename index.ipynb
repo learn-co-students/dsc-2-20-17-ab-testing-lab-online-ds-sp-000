{
 "cells": [
  {
   "cell_type": "markdown",
   "metadata": {},
   "source": [
    "# A/B Testing - Lab\n",
    "\n",
    "## Introduction\n",
    "\n",
    "In this lab, you'll go through a sample process of designing an experiment.\n",
    "\n",
    "## Objectives\n",
    "You will be able to:\n",
    "\n",
    "* Design, structure, and run an A/B test\n",
    "\n",
    "\n",
    "## The Scenario\n",
    "\n",
    "You've been tasked with designing an experiment to test whether a new email template will be more effective for your company's marketing team. The current template has a 5% response rate, which has outperformed numerous other templates in the past. As a result of some very poor performance from some of these alternative templates, the company is both excited to test this new design that was developed internally, and nervous about losing sales, if it is not to work out. As a result, they are looking to determine how many individuals they will need to serve the new email template to in order to detect a 1% performance increase (or drop).\n",
    "\n",
    "\n",
    "## Step 1: State the Null Hypothesis, $H_0$"
   ]
  },
  {
   "cell_type": "markdown",
   "metadata": {},
   "source": [
    "State your null hypothesis here (be sure to make it quantitative as before)\n",
    "\n",
    "h_0 : response rate = 5%"
   ]
  },
  {
   "cell_type": "markdown",
   "metadata": {},
   "source": [
    "## Step 2: State the Alternative Hypothesis, $H_1$"
   ]
  },
  {
   "cell_type": "markdown",
   "metadata": {},
   "source": [
    "State your alternative hypothesis here (be sure to make it quantitative as before)\n",
    "\n",
    "h_1 : response rate >= 6%"
   ]
  },
  {
   "cell_type": "markdown",
   "metadata": {},
   "source": [
    "## Step 3: Define Alpha and Beta\n",
    "\n",
    "Now define what alpha and beta you believe might be appropriate for this scenario.\n",
    "To start, we may arbitrarily set alpha and beta to .01, indicating that we wish to minimally open ourselves up to type I and type II errors. Later, we will be able to adapt these, if sample sizes turn out to be impractically large."
   ]
  },
  {
   "cell_type": "code",
   "execution_count": null,
   "metadata": {},
   "outputs": [],
   "source": [
    "alpha = .01\n",
    "beta = .01"
   ]
  },
  {
   "cell_type": "markdown",
   "metadata": {},
   "source": [
    "## Step 4: Calculate N\n",
    "\n",
    "Calculating n requires us to know the variance. In this case, we will have a binomial variable (they either respond to the email or don't) and thus the variance, can be calculated with a standard formula: $n\\bullet p\\bullet(1-p)$ however, this also requires knowledge of p, the probability of response from the updated template. After conducting a limited sample however, we can extrapolate more and detemine if we have sufficient evidence or not.\n",
    "\n",
    "\n",
    "...So, after an initial trial of 35 individuals, you have a total of 2 responses. \n",
    "\n",
    "Is this sufficient evidence to refute the null hypothesis stated above?"
   ]
  },
  {
   "cell_type": "code",
   "execution_count": 1,
   "metadata": {},
   "outputs": [
    {
     "data": {
      "text/plain": [
       "408211.46565667057"
      ]
     },
     "execution_count": 1,
     "metadata": {},
     "output_type": "execute_result"
    }
   ],
   "source": [
    "#Your code for testing the null hypothesis here\n",
    "import scipy.stats as st\n",
    "\n",
    "def compute_n(alpha, beta, mu_0, mu_1, var):\n",
    "    z_alpha = st.norm.ppf(alpha)\n",
    "    z_beta = st.norm.ppf(beta)\n",
    "    num = ((z_alpha+z_beta)**2)*var\n",
    "    den = (mu_1 - mu_0)**2\n",
    "    return num/den\n",
    "\n",
    "alpha = .01 \n",
    "beta = .01 \n",
    "mu_0 = .05 \n",
    "mu_1 = .06 \n",
    "var = 35 *(2/35)*(1-2/35) \n",
    "\n",
    "compute_n(alpha, beta, mu_0, mu_1, var)"
   ]
  },
  {
   "cell_type": "markdown",
   "metadata": {},
   "source": [
    "### Your answer here: is there sufficient data to refute the null hypothesis? [Yes/No]\n",
    "No. The sample size must be at least 400k in order to achieve desired accuracy level."
   ]
  },
  {
   "cell_type": "markdown",
   "metadata": {},
   "source": [
    "## Experimenting With New Test Designs\n",
    "If we relax alpha and beta to .05, each (opening ourselves up to a higher probability of making type I and type II errors), how much would our required sample size drop?"
   ]
  },
  {
   "cell_type": "code",
   "execution_count": 2,
   "metadata": {},
   "outputs": [
    {
     "data": {
      "text/plain": [
       "204075.27768034008"
      ]
     },
     "execution_count": 2,
     "metadata": {},
     "output_type": "execute_result"
    }
   ],
   "source": [
    "#Your code here\n",
    "alpha, beta =.05, .05\n",
    "compute_n(alpha, beta, mu_0, mu_1, var)"
   ]
  },
  {
   "cell_type": "markdown",
   "metadata": {},
   "source": [
    "### Your answer here: how much would required sample size drop based on the new formulation?\n",
    "It would be roughly cut in half. "
   ]
  },
  {
   "cell_type": "code",
   "execution_count": 7,
   "metadata": {},
   "outputs": [],
   "source": [
    "import numpy as np"
   ]
  },
  {
   "cell_type": "code",
   "execution_count": 8,
   "metadata": {},
   "outputs": [
    {
     "name": "stdout",
     "output_type": "stream",
     "text": [
      "Alpha & Beta = 0.02\n",
      "Required Sample Size: 318149.00891750015\n",
      "\n",
      "Alpha & Beta = 0.03\n",
      "Required Sample Size: 266819.86670460796\n",
      "\n",
      "Alpha & Beta = 0.04\n",
      "Required Sample Size: 231181.15831433123\n",
      "\n",
      "Alpha & Beta = 0.05\n",
      "Required Sample Size: 204075.27768034008\n",
      "\n",
      "Alpha & Beta = 0.06\n",
      "Required Sample Size: 182335.06446865274\n",
      "\n",
      "Alpha & Beta = 0.07\n",
      "Required Sample Size: 164280.34798214052\n",
      "\n",
      "Alpha & Beta = 0.08\n",
      "Required Sample Size: 148913.05361486008\n",
      "\n",
      "Alpha & Beta = 0.09\n",
      "Required Sample Size: 135592.21483900945\n",
      "\n",
      "Alpha & Beta = 0.1\n",
      "Required Sample Size: 123881.95588558626\n",
      "\n",
      "Alpha & Beta = 0.11\n",
      "Required Sample Size: 113472.57271985813\n",
      "\n",
      "Alpha & Beta = 0.12\n",
      "Required Sample Size: 104136.23024110214\n",
      "\n",
      "Alpha & Beta = 0.13\n",
      "Required Sample Size: 95700.52615783103\n",
      "\n",
      "Alpha & Beta = 0.14\n",
      "Required Sample Size: 88031.92223675987\n",
      "\n",
      "Alpha & Beta = 0.15\n",
      "Required Sample Size: 81024.93174468656\n",
      "\n",
      "Alpha & Beta = 0.16\n",
      "Required Sample Size: 74594.82031719951\n",
      "\n",
      "Alpha & Beta = 0.17\n",
      "Required Sample Size: 68672.53462921345\n",
      "\n",
      "Alpha & Beta = 0.18\n",
      "Required Sample Size: 63201.09040770044\n",
      "\n",
      "Alpha & Beta = 0.19\n",
      "Required Sample Size: 58132.94368122114\n",
      "\n",
      "Alpha & Beta = 0.2\n",
      "Required Sample Size: 53428.04097468847\n",
      "\n",
      "Alpha & Beta = 0.21\n",
      "Required Sample Size: 49052.34859931653\n",
      "\n"
     ]
    }
   ],
   "source": [
    "alpha, beta = .01, .01\n",
    "n = compute_n(alpha, beta, mu_0, mu_1, var)\n",
    "\n",
    "while n >50000:\n",
    "    alpha += .01\n",
    "    beta += .01\n",
    "    n = compute_n(alpha, beta, mu_0, mu_1, var)\n",
    "    print(f'Alpha & Beta = {np.round(alpha, 2)}\\nRequired Sample Size: {n}\\n')"
   ]
  },
  {
   "cell_type": "markdown",
   "metadata": {},
   "source": [
    "## Summary\n",
    "\n",
    "In this lab, you practiced designing an intial experiment and then refined the parameters of the experiment based on an initial sample to determine feasability."
   ]
  }
 ],
 "metadata": {
  "kernelspec": {
   "display_name": "Python 3",
   "language": "python",
   "name": "python3"
  },
  "language_info": {
   "codemirror_mode": {
    "name": "ipython",
    "version": 3
   },
   "file_extension": ".py",
   "mimetype": "text/x-python",
   "name": "python",
   "nbconvert_exporter": "python",
   "pygments_lexer": "ipython3",
   "version": "3.6.6"
  }
 },
 "nbformat": 4,
 "nbformat_minor": 2
}
